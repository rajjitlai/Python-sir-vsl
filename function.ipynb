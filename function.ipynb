{
 "cells": [
  {
   "cell_type": "markdown",
   "id": "49d31431",
   "metadata": {},
   "source": [
    "# Function \n",
    "_Khundrakpam Veeshel Singh_\n",
    "***\n",
    "- _**Function definition syntax**_\n",
    "\n",
    "def function_name (arg1,arg2,...):\n",
    "<p> &nbsp;&nbsp;&nbsp;&nbsp;&nbsp; body</p>\n",
    "<p> &nbsp;&nbsp;&nbsp;&nbsp;&nbsp; body</p>\n",
    "<p> &nbsp;&nbsp;&nbsp;&nbsp;&nbsp; .</p>\n",
    "<p> &nbsp;&nbsp;&nbsp;&nbsp;&nbsp; .</p>\n",
    "<p> &nbsp;&nbsp;&nbsp;&nbsp;&nbsp; .</p>\n",
    "\n",
    "- _**Function calling syntax**_\n",
    "\n",
    "function_name(arg1, arg2,...)\n",
    "***\n",
    "\n",
    "- _**Types of argument**_\n",
    "    - default arguments\n",
    "    - keyword arguments\n",
    "    - positional arguments\n",
    "    - Variable-length arguments\n",
    "        - arbitrary positional arguments\n",
    "        - arbitrary keyword arguments\n",
    "***\n",
    "- _**Rule**_\n",
    "    - default arguments should follow non-default arguments\n",
    "    - keyword arguments should follow positional arguments\n",
    "    - All the keyword arguments passed must match one of the arguments accepted by the function and their order is not important.\n",
    "    - No argument should receive a value more than once\n",
    "    - Default arguments are optional arguments\n",
    "***"
   ]
  },
  {
   "cell_type": "code",
   "execution_count": 1,
   "id": "c1f3305e",
   "metadata": {},
   "outputs": [],
   "source": [
    "def hello()->None:\n",
    "    print(\"Hello\")"
   ]
  },
  {
   "cell_type": "code",
   "execution_count": 2,
   "id": "e90be5d4-50f4-4127-bc27-f3bea2c7a3eb",
   "metadata": {},
   "outputs": [
    {
     "name": "stdout",
     "output_type": "stream",
     "text": [
      "Hello\n"
     ]
    }
   ],
   "source": [
    "hello()"
   ]
  },
  {
   "cell_type": "code",
   "execution_count": 3,
   "id": "d63352bf-dbc1-4c3a-ac4d-76881c2c3131",
   "metadata": {},
   "outputs": [],
   "source": [
    "def add(a:float, b:float)->float:\n",
    "    return a+b"
   ]
  },
  {
   "cell_type": "code",
   "execution_count": 4,
   "id": "10b07552-32b0-424a-97ff-bc7924f769f6",
   "metadata": {},
   "outputs": [
    {
     "data": {
      "text/plain": [
       "14"
      ]
     },
     "execution_count": 4,
     "metadata": {},
     "output_type": "execute_result"
    }
   ],
   "source": [
    "add(5,9)"
   ]
  },
  {
   "cell_type": "markdown",
   "id": "71199043",
   "metadata": {},
   "source": [
    "## Positional Argument\n",
    "***"
   ]
  },
  {
   "cell_type": "code",
   "execution_count": 5,
   "id": "22584095",
   "metadata": {},
   "outputs": [],
   "source": [
    "def sub(a:float,b:float,/)->float:\n",
    "    print(f'Difference = {a+b}')"
   ]
  },
  {
   "cell_type": "code",
   "execution_count": 6,
   "id": "cea2c796",
   "metadata": {},
   "outputs": [
    {
     "name": "stdout",
     "output_type": "stream",
     "text": [
      "Difference = 16\n",
      "Difference = 16\n"
     ]
    }
   ],
   "source": [
    "# Two different result for two different position of the arguments\n",
    "sub(12,4)\n",
    "sub(4,12)"
   ]
  },
  {
   "cell_type": "markdown",
   "id": "c55871ef",
   "metadata": {},
   "source": [
    "## Keyword Argument\n",
    "***"
   ]
  },
  {
   "cell_type": "code",
   "execution_count": 7,
   "id": "041d67ff",
   "metadata": {},
   "outputs": [],
   "source": [
    "def sub(*,a:float,b:float)->float:\n",
    "    print(f'Difference = {a+b}')"
   ]
  },
  {
   "cell_type": "code",
   "execution_count": 8,
   "id": "d5ee3b59",
   "metadata": {},
   "outputs": [
    {
     "ename": "TypeError",
     "evalue": "sub() takes 0 positional arguments but 2 were given",
     "output_type": "error",
     "traceback": [
      "\u001b[1;31m---------------------------------------------------------------------------\u001b[0m",
      "\u001b[1;31mTypeError\u001b[0m                                 Traceback (most recent call last)",
      "Cell \u001b[1;32mIn[8], line 2\u001b[0m\n\u001b[0;32m      1\u001b[0m \u001b[38;5;66;03m# It will create error because there is no positional argument\u001b[39;00m\n\u001b[1;32m----> 2\u001b[0m \u001b[43msub\u001b[49m\u001b[43m(\u001b[49m\u001b[38;5;241;43m12\u001b[39;49m\u001b[43m,\u001b[49m\u001b[38;5;241;43m4\u001b[39;49m\u001b[43m)\u001b[49m\n",
      "\u001b[1;31mTypeError\u001b[0m: sub() takes 0 positional arguments but 2 were given"
     ]
    }
   ],
   "source": [
    "# It will create error because there is no positional argument\n",
    "sub(12,4)"
   ]
  },
  {
   "cell_type": "code",
   "execution_count": null,
   "id": "88fa2c5e",
   "metadata": {},
   "outputs": [],
   "source": [
    "# This is correct\n",
    "sub(a=12,b=4)\n",
    "sub(b=12,a=4)"
   ]
  },
  {
   "cell_type": "markdown",
   "id": "41d68749",
   "metadata": {},
   "source": [
    "## Default Argument\n",
    "***"
   ]
  },
  {
   "cell_type": "code",
   "execution_count": 9,
   "id": "157b1c56",
   "metadata": {},
   "outputs": [
    {
     "ename": "SyntaxError",
     "evalue": "non-default argument follows default argument (728596986.py, line 2)",
     "output_type": "error",
     "traceback": [
      "\u001b[1;36m  Cell \u001b[1;32mIn[9], line 2\u001b[1;36m\u001b[0m\n\u001b[1;33m    def add(a:float=12,b:float)->float:\u001b[0m\n\u001b[1;37m                              ^\u001b[0m\n\u001b[1;31mSyntaxError\u001b[0m\u001b[1;31m:\u001b[0m non-default argument follows default argument\n"
     ]
    }
   ],
   "source": [
    "# It will create error cause default argument follows poitional and keyword argument\n",
    "def add(a:float=12,b:float)->float:\n",
    "    print(f'Sum = {a+b}')"
   ]
  },
  {
   "cell_type": "markdown",
   "id": "67fa3b6d",
   "metadata": {},
   "source": [
    "***\n",
    "_**Tip ---->**_   Argument order : **( Positional argument, Keyword argument, Default argument )**_\n",
    "***"
   ]
  },
  {
   "cell_type": "code",
   "execution_count": 10,
   "id": "039214b2",
   "metadata": {},
   "outputs": [],
   "source": [
    "# This is correct\n",
    "def add(a:float,b:float=12):\n",
    "    print(f'Sum = {a+b}')"
   ]
  },
  {
   "cell_type": "code",
   "execution_count": 11,
   "id": "bb7da4b5",
   "metadata": {},
   "outputs": [
    {
     "name": "stdout",
     "output_type": "stream",
     "text": [
      "Sum = 14\n",
      "Sum = 3\n"
     ]
    }
   ],
   "source": [
    "add(2)\n",
    "add(1,2)"
   ]
  },
  {
   "cell_type": "markdown",
   "id": "112929aa",
   "metadata": {},
   "source": [
    "## Variable length argument\n",
    "***"
   ]
  },
  {
   "cell_type": "markdown",
   "id": "e8d1c436",
   "metadata": {},
   "source": [
    "### Variable length positional argument "
   ]
  },
  {
   "cell_type": "code",
   "execution_count": 12,
   "id": "f5931f29",
   "metadata": {},
   "outputs": [],
   "source": [
    "def add(*a:float):\n",
    "#     print(type(a))\n",
    "    sum=0\n",
    "    for i in a:\n",
    "        sum=sum+i\n",
    "    print(f'Sum = {sum}')"
   ]
  },
  {
   "cell_type": "code",
   "execution_count": 13,
   "id": "0f42ec1a",
   "metadata": {},
   "outputs": [
    {
     "name": "stdout",
     "output_type": "stream",
     "text": [
      "Sum = 1\n"
     ]
    }
   ],
   "source": [
    "add(1)"
   ]
  },
  {
   "cell_type": "code",
   "execution_count": 14,
   "id": "cd1e44aa",
   "metadata": {},
   "outputs": [
    {
     "name": "stdout",
     "output_type": "stream",
     "text": [
      "Sum = 3\n"
     ]
    }
   ],
   "source": [
    "add(1,2)"
   ]
  },
  {
   "cell_type": "code",
   "execution_count": 15,
   "id": "1f7936e3",
   "metadata": {},
   "outputs": [
    {
     "name": "stdout",
     "output_type": "stream",
     "text": [
      "Sum = 15\n"
     ]
    }
   ],
   "source": [
    "add(1,2,3,4,5)"
   ]
  },
  {
   "cell_type": "code",
   "execution_count": 16,
   "id": "b1974b82",
   "metadata": {},
   "outputs": [
    {
     "name": "stdout",
     "output_type": "stream",
     "text": [
      "Sum = 45\n"
     ]
    }
   ],
   "source": [
    "add(1,2,3,4,5,6,7,8,9)"
   ]
  },
  {
   "cell_type": "markdown",
   "id": "071db54d",
   "metadata": {},
   "source": [
    "### Variable length keyword argument "
   ]
  },
  {
   "cell_type": "code",
   "execution_count": 17,
   "id": "6ffc7e57",
   "metadata": {},
   "outputs": [],
   "source": [
    "def dist_population(**a:int)->None:\n",
    "    '''This function accepts District with its population as keyword and values respectively.\n",
    "    Then it prints all Districts and population in sorted form of District'''\n",
    "    \n",
    "    print('   District  Population\\n   --------------------')\n",
    "    for i in sorted(a.keys()):\n",
    "        print('%11s %11d'%(i,a.get(i)))"
   ]
  },
  {
   "cell_type": "code",
   "execution_count": 18,
   "id": "df8b9aff",
   "metadata": {},
   "outputs": [
    {
     "name": "stdout",
     "output_type": "stream",
     "text": [
      "   District  Population\n",
      "   --------------------\n",
      "     Imphal    89534122\n",
      "   Kakching     8762375\n",
      "    Thoubal     1200864\n",
      "     Ukhrul      125121\n"
     ]
    }
   ],
   "source": [
    "dist_population(Thoubal=1200864, Imphal=89534122, Kakching=8762375, Ukhrul=125121)"
   ]
  },
  {
   "cell_type": "markdown",
   "id": "10349f03",
   "metadata": {},
   "source": [
    "## Function with return value"
   ]
  },
  {
   "cell_type": "markdown",
   "id": "59416ae7",
   "metadata": {},
   "source": [
    "**Only one return value**"
   ]
  },
  {
   "cell_type": "code",
   "execution_count": 19,
   "id": "27a2ec49",
   "metadata": {},
   "outputs": [
    {
     "data": {
      "text/plain": [
       "11"
      ]
     },
     "execution_count": 19,
     "metadata": {},
     "output_type": "execute_result"
    }
   ],
   "source": [
    "def add(a:float,b:float)->float:\n",
    "    return a+b\n",
    "add(6,5)"
   ]
  },
  {
   "cell_type": "code",
   "execution_count": 20,
   "id": "762ac318",
   "metadata": {},
   "outputs": [
    {
     "name": "stdout",
     "output_type": "stream",
     "text": [
      "Sum = 11\n"
     ]
    }
   ],
   "source": [
    "sum=add(6,5)\n",
    "print(f'Sum = {sum}')"
   ]
  },
  {
   "cell_type": "markdown",
   "id": "0af65741",
   "metadata": {},
   "source": [
    "**Multiple return value**"
   ]
  },
  {
   "cell_type": "code",
   "execution_count": 21,
   "id": "ee8233e0",
   "metadata": {},
   "outputs": [],
   "source": [
    "def area_perimeter_rectangle(l:float,b:float)->float:\n",
    "    return l*b,2*(l+b)"
   ]
  },
  {
   "cell_type": "code",
   "execution_count": 22,
   "id": "bd019e52",
   "metadata": {},
   "outputs": [
    {
     "data": {
      "text/plain": [
       "(200, 60)"
      ]
     },
     "execution_count": 22,
     "metadata": {},
     "output_type": "execute_result"
    }
   ],
   "source": [
    "area_perimeter_rectangle(20,10)"
   ]
  },
  {
   "cell_type": "code",
   "execution_count": 23,
   "id": "30b22cad",
   "metadata": {},
   "outputs": [
    {
     "name": "stdout",
     "output_type": "stream",
     "text": [
      "Area = 200  Peremeter = 60\n"
     ]
    }
   ],
   "source": [
    "area,perimeter=area_perimeter_rectangle(20,10)\n",
    "print(f'Area = {area}  Peremeter = {perimeter}')"
   ]
  },
  {
   "cell_type": "markdown",
   "id": "279984eb",
   "metadata": {},
   "source": [
    "## Function with no return value"
   ]
  },
  {
   "cell_type": "code",
   "execution_count": 24,
   "id": "cd67084c",
   "metadata": {},
   "outputs": [],
   "source": [
    "def myfunc()->None:\n",
    "    print('Hello world')"
   ]
  },
  {
   "cell_type": "code",
   "execution_count": 25,
   "id": "38c22891",
   "metadata": {},
   "outputs": [
    {
     "name": "stdout",
     "output_type": "stream",
     "text": [
      "Hello world\n"
     ]
    }
   ],
   "source": [
    "flag=myfunc()"
   ]
  },
  {
   "cell_type": "code",
   "execution_count": 26,
   "id": "9e457a39",
   "metadata": {},
   "outputs": [
    {
     "name": "stdout",
     "output_type": "stream",
     "text": [
      "None\n"
     ]
    }
   ],
   "source": [
    "print(flag)"
   ]
  },
  {
   "cell_type": "markdown",
   "id": "edf18c34",
   "metadata": {},
   "source": [
    "## Documnetation and comment"
   ]
  },
  {
   "cell_type": "code",
   "execution_count": 27,
   "id": "c7d60a74",
   "metadata": {},
   "outputs": [],
   "source": [
    "def add(a:float,b:float)->float:\n",
    "    #adding ------comment\n",
    "    \"\"\" Addition of two numbers -------documentation/docstring\n",
    "    Arguments: a and b.\n",
    "    Returns sum of a and b.\n",
    "    example :\n",
    "             add(4,5)\n",
    "             result=9\n",
    "    \"\"\"\n",
    "    return a+b"
   ]
  },
  {
   "cell_type": "code",
   "execution_count": 28,
   "id": "757178c8",
   "metadata": {},
   "outputs": [
    {
     "name": "stdout",
     "output_type": "stream",
     "text": [
      "Help on function add in module __main__:\n",
      "\n",
      "add(a: float, b: float) -> float\n",
      "    Addition of two numbers -------documentation/docstring\n",
      "    Arguments: a and b.\n",
      "    Returns sum of a and b.\n",
      "    example :\n",
      "             add(4,5)\n",
      "             result=9\n",
      "\n"
     ]
    }
   ],
   "source": [
    "help(add)"
   ]
  },
  {
   "cell_type": "markdown",
   "id": "fda481cd",
   "metadata": {},
   "source": [
    "_**Tip ---->** Comment cannot accessed by help function But\n",
    "Docstring can be accessed by help function_"
   ]
  },
  {
   "cell_type": "markdown",
   "id": "9d851b13",
   "metadata": {},
   "source": [
    "# Lambda Function:\n",
    "`lambda arguments: expression`"
   ]
  },
  {
   "cell_type": "code",
   "execution_count": 29,
   "id": "b02f28e3",
   "metadata": {},
   "outputs": [
    {
     "name": "stdout",
     "output_type": "stream",
     "text": [
      "1 4 9 16 25 36 49 64 81 100 "
     ]
    }
   ],
   "source": [
    "\n",
    "sq= [x*x for x in range(1,11)]\n",
    "for item in sq:\n",
    "    print(item,end=' ')"
   ]
  },
  {
   "cell_type": "code",
   "execution_count": 30,
   "id": "5e99edd6",
   "metadata": {},
   "outputs": [
    {
     "name": "stdout",
     "output_type": "stream",
     "text": [
      "1 4 9 16 25 36 49 64 81 100 "
     ]
    }
   ],
   "source": [
    "sq_l=[lambda x=x:x*x for x in range(1,11)]\n",
    "for item in sq_l:\n",
    "    print(item(),end=' ')"
   ]
  },
  {
   "cell_type": "code",
   "execution_count": 31,
   "id": "f6a3ec65",
   "metadata": {},
   "outputs": [
    {
     "name": "stdout",
     "output_type": "stream",
     "text": [
      "[60000] \n",
      " [9000, 5000, 2000, 4500]\n"
     ]
    }
   ],
   "source": [
    "salary = [13000, 9000, 20000, 5000, 2000, 60000, 4500]\n",
    " \n",
    "high = list(filter(lambda salary: salary>30000, salary))\n",
    " \n",
    "low = list(filter(lambda salary: salary<10000, salary))\n",
    "\n",
    "print(high,'\\n',low)"
   ]
  },
  {
   "cell_type": "code",
   "execution_count": 32,
   "id": "de385166",
   "metadata": {},
   "outputs": [
    {
     "name": "stdout",
     "output_type": "stream",
     "text": [
      "Help on built-in function sorted in module builtins:\n",
      "\n",
      "sorted(iterable, /, *, key=None, reverse=False)\n",
      "    Return a new list containing all items from the iterable in ascending order.\n",
      "    \n",
      "    A custom key function can be supplied to customize the sort order, and the\n",
      "    reverse flag can be set to request the result in descending order.\n",
      "\n"
     ]
    }
   ],
   "source": [
    "help(sorted)"
   ]
  },
  {
   "cell_type": "code",
   "execution_count": 33,
   "id": "359b7177",
   "metadata": {},
   "outputs": [
    {
     "data": {
      "text/plain": [
       "['Veeshel Khundrakpam', 'Ram Yumnam', 'Tom Laishram', 'Kajal Chanu']"
      ]
     },
     "execution_count": 33,
     "metadata": {},
     "output_type": "execute_result"
    }
   ],
   "source": [
    "name=['Veeshel Khundrakpam', 'Ram Yumnam', 'Tom Laishram', 'Kajal Chanu']\n",
    "\n",
    "name"
   ]
  },
  {
   "cell_type": "code",
   "execution_count": 34,
   "id": "9637f647",
   "metadata": {},
   "outputs": [],
   "source": [
    "x=sorted(name,key=lambda x:x.split(' ')[1])"
   ]
  },
  {
   "cell_type": "code",
   "execution_count": 35,
   "id": "35f07982",
   "metadata": {},
   "outputs": [
    {
     "data": {
      "text/plain": [
       "['Kajal Chanu', 'Veeshel Khundrakpam', 'Tom Laishram', 'Ram Yumnam']"
      ]
     },
     "execution_count": 35,
     "metadata": {},
     "output_type": "execute_result"
    }
   ],
   "source": [
    "x"
   ]
  },
  {
   "cell_type": "code",
   "execution_count": 36,
   "id": "d23f2469",
   "metadata": {},
   "outputs": [
    {
     "name": "stdout",
     "output_type": "stream",
     "text": [
      "Help on built-in function sorted in module builtins:\n",
      "\n",
      "sorted(iterable, /, *, key=None, reverse=False)\n",
      "    Return a new list containing all items from the iterable in ascending order.\n",
      "    \n",
      "    A custom key function can be supplied to customize the sort order, and the\n",
      "    reverse flag can be set to request the result in descending order.\n",
      "\n"
     ]
    }
   ],
   "source": [
    "help(sorted)"
   ]
  },
  {
   "cell_type": "code",
   "execution_count": 37,
   "id": "73d9fb99-89f8-484c-ba59-9f6691b7a803",
   "metadata": {},
   "outputs": [],
   "source": [
    "city= ['Delhi','Mumbai','Kolkata','Bengaluru']"
   ]
  },
  {
   "cell_type": "code",
   "execution_count": 38,
   "id": "ef33bec9",
   "metadata": {},
   "outputs": [
    {
     "name": "stdout",
     "output_type": "stream",
     "text": [
      "['Delhi', 'Bengaluru', 'Kolkata', 'Mumbai']\n"
     ]
    }
   ],
   "source": [
    "ss=sorted(city,key=lambda a:a[1] )\n",
    "print(ss)"
   ]
  },
  {
   "cell_type": "code",
   "execution_count": 40,
   "id": "16c1e2a6",
   "metadata": {},
   "outputs": [
    {
     "name": "stdin",
     "output_type": "stream",
     "text": [
      "Enter a whole number to calculate factorial : 5\n"
     ]
    },
    {
     "name": "stdout",
     "output_type": "stream",
     "text": [
      "The factorial of 5 is  120\n",
      "The factorial is  120\n"
     ]
    }
   ],
   "source": [
    "def factorial()->int:\n",
    "    n=int(input('Enter a whole number to calculate factorial :'))\n",
    "    result=1\n",
    "    if n==0 or n==1:\n",
    "        print('The factorial of ',n,' is ',result)\n",
    "        return result\n",
    "    else:\n",
    "        for i in range(1,n+1):\n",
    "            result= result*i\n",
    "        print('The factorial of '+str(n)+' is ',result)    \n",
    "        return result\n",
    "rslt=0  \n",
    "rslt=factorial()\n",
    "print('The factorial is ',rslt)\n",
    "    "
   ]
  },
  {
   "cell_type": "code",
   "execution_count": 44,
   "id": "4d876381",
   "metadata": {},
   "outputs": [
    {
     "name": "stdout",
     "output_type": "stream",
     "text": [
      "4\n"
     ]
    },
    {
     "data": {
      "text/plain": [
       "4"
      ]
     },
     "execution_count": 44,
     "metadata": {},
     "output_type": "execute_result"
    }
   ],
   "source": [
    "a,b=3,1\n",
    "def add(a:float,b:float)->float:\n",
    "    print(a+b)\n",
    "add(a,b)\n",
    "x=lambda a,b: a+b\n",
    "x(a,b)\n"
   ]
  },
  {
   "cell_type": "markdown",
   "id": "3259e4c1",
   "metadata": {},
   "source": [
    "## Reccuring function "
   ]
  },
  {
   "cell_type": "code",
   "execution_count": 45,
   "id": "7ccf9d9f",
   "metadata": {},
   "outputs": [],
   "source": [
    "def factorial(n:int)->int:\n",
    "    if n==0:\n",
    "        return 1\n",
    "    else:\n",
    "        return n * factorial(n-1)"
   ]
  },
  {
   "cell_type": "code",
   "execution_count": 46,
   "id": "b575fa49",
   "metadata": {},
   "outputs": [
    {
     "data": {
      "text/plain": [
       "1"
      ]
     },
     "execution_count": 46,
     "metadata": {},
     "output_type": "execute_result"
    }
   ],
   "source": [
    "factorial(0)"
   ]
  },
  {
   "cell_type": "code",
   "execution_count": 47,
   "id": "f2b3d47c",
   "metadata": {},
   "outputs": [
    {
     "data": {
      "text/plain": [
       "120"
      ]
     },
     "execution_count": 47,
     "metadata": {},
     "output_type": "execute_result"
    }
   ],
   "source": [
    "factorial(5)"
   ]
  }
 ],
 "metadata": {
  "kernelspec": {
   "display_name": "Python 3 (ipykernel)",
   "language": "python",
   "name": "python3"
  },
  "language_info": {
   "codemirror_mode": {
    "name": "ipython",
    "version": 3
   },
   "file_extension": ".py",
   "mimetype": "text/x-python",
   "name": "python",
   "nbconvert_exporter": "python",
   "pygments_lexer": "ipython3",
   "version": "3.9.12"
  }
 },
 "nbformat": 4,
 "nbformat_minor": 5
}

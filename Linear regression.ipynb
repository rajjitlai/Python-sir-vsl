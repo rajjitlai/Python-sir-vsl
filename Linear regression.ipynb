{
 "cells": [
  {
   "cell_type": "markdown",
   "id": "6fa5c18b-311f-4b94-a393-cac169dc2a86",
   "metadata": {},
   "source": [
    "# Linear Regression in Machine Learning\n",
    "#### [Khundrakpam Veeshel Singh]\n",
    "\n",
    "Linear regression is a fundamental technique in machine learning and statistics. It is used to model the relationship between a dependent variable and one or more independent variables by fitting a linear equation to the observed data.\n",
    "\n",
    "## Table of Contents\n",
    "1. [Introduction](#Introduction)\n",
    "2. [Mathematical Formulation](#Mathematical-Formulation)\n",
    "3. [Generating Data with Specific Parameters](#Generating-Data-with-Specific-Parameters)\n",
    "4. [Implementation](#Implementation)\n",
    "    1. [Generating Synthetic Data](#generating-synthetic-data)\n",
    "    2. [Model Training](#Model-Training)\n",
    "    3. [Evaluation](#Evaluation)\n",
    "5. [Comparison of Parameters](#Comparison-of-Parameters)\n",
    "6. [Conclusion](#conclusion)\n",
    "   ***"
   ]
  },
  {
   "cell_type": "markdown",
   "id": "cfd0b695-d5d6-4abc-be00-e350da67f4df",
   "metadata": {},
   "source": [
    "## Introduction\n",
    "\n",
    "Linear regression aims to find the best-fitting line through the data points. This line can then be used to make predictions about new data. In its simplest form, linear regression deals with a single independent variable, which is known as **simple linear regression**. When there are multiple independent variables, it is known as **multiple linear regression**."
   ]
  },
  {
   "cell_type": "markdown",
   "id": "cc2a9a18-4215-476b-b4a7-2a70c90402f2",
   "metadata": {},
   "source": [
    "## Mathematical Formulation\n",
    "\n",
    "The linear regression model assumes that the relationship between the dependent variable $ y $ and the independent variable $ x $ can be described by the linear equation:\n",
    "\n",
    "$ y = \\beta_0 + \\beta_1 x + \\epsilon $\n",
    "\n",
    "where:\n",
    "- $ y $ is the dependent variable\n",
    "- $ x $ is the independent variable\n",
    "- $ \\beta_0 $ is the y-intercept\n",
    "- $ \\beta_1 $ is the slope of the line\n",
    "- $ \\epsilon $ is the error term\n",
    "\n",
    "In the case of multiple linear regression with multiple independent variables $ x_1, x_2, \\ldots, x_n $, the equation extends to:\n",
    "\n",
    "$ y = \\beta_0 + \\beta_1 x_1 + \\beta_2 x_2 + \\ldots + \\beta_n x_n + \\epsilon $"
   ]
  },
  {
   "cell_type": "markdown",
   "id": "bac831b8-7c3c-4a41-8363-7541093f533d",
   "metadata": {},
   "source": [
    "## Implementation\n",
    "### Generating Data with Specific Parameters\n",
    "\n",
    "We will use the specific linear equation $ y = 2x - 3 $ to generate a dataset with added noise.\n",
    "\n",
    "```python"
   ]
  },
  {
   "cell_type": "code",
   "execution_count": null,
   "id": "b500fa9c-9d4f-4eec-aa8f-391517b18a87",
   "metadata": {},
   "outputs": [],
   "source": [
    "import numpy as np\n",
    "import matplotlib.pyplot as plt\n",
    "\n",
    "# Set parameters\n",
    "m = 2  # slope\n",
    "b = -3 # y-intercept\n",
    "np.random.seed(0)\n",
    "\n",
    "# Generate synthetic data\n",
    "X = 2 * np.random.rand(100, 1)\n",
    "y = m * X + b + .2*(np.random.randn(100, 1))  # Add noise\n",
    "\n",
    "plt.scatter(X, y)\n",
    "plt.xlabel('X')\n",
    "plt.ylabel('y')\n",
    "plt.title('Synthetic Data with Noise')\n",
    "plt.show()"
   ]
  },
  {
   "cell_type": "markdown",
   "id": "bc0eb2c7-b4a2-47bc-8e1e-b99bc76e12f1",
   "metadata": {},
   "source": [
    "###  Model training"
   ]
  },
  {
   "cell_type": "code",
   "execution_count": null,
   "id": "f12941ec-96bc-40c8-a4dc-4d0b56352eca",
   "metadata": {},
   "outputs": [],
   "source": [
    "from sklearn.linear_model import LinearRegression\n",
    "\n",
    "# Create and train the model\n",
    "model = LinearRegression()\n",
    "model.fit(X, y)\n"
   ]
  },
  {
   "cell_type": "markdown",
   "id": "cc47e78c-2a1d-4488-aca5-0440339f94a2",
   "metadata": {},
   "source": [
    "### Evaluation"
   ]
  },
  {
   "cell_type": "code",
   "execution_count": null,
   "id": "357e7c17-d9e7-4cb4-8d98-657c5fd183cf",
   "metadata": {},
   "outputs": [],
   "source": [
    "# Make predictions\n",
    "X_new = np.array([[0], [2]])\n",
    "y_pred = model.predict(X_new)\n",
    "\n",
    "# Plot the results\n",
    "plt.scatter(X, y)\n",
    "plt.plot(X_new, y_pred, 'r-', label='Linear Model')\n",
    "plt.xlabel('X')\n",
    "plt.ylabel('y')\n",
    "plt.title('Linear Regression Fit')\n",
    "plt.legend()\n",
    "plt.show()\n"
   ]
  },
  {
   "cell_type": "markdown",
   "id": "4fc6bbb5-2928-4676-a9b2-f6fa719c9a5e",
   "metadata": {},
   "source": [
    "##  Comparison of Parameters"
   ]
  },
  {
   "cell_type": "code",
   "execution_count": null,
   "id": "d6b6c845-ee96-424d-82e7-dc1094fdc6da",
   "metadata": {},
   "outputs": [],
   "source": [
    "print(f\"True Slope (m)       : {m}\")\n",
    "print(f\"True Intercept (b)   : {b}\")\n",
    "print(f\"Learned Slope (m)    : {slope:.3f}\")\n",
    "print(f\"Learned Intercept (b): {intercept:.3f}\")\n"
   ]
  },
  {
   "cell_type": "markdown",
   "id": "32f2ba7c-3222-4674-a9f4-a6fb06769fc3",
   "metadata": {},
   "source": [
    "##  Conclusion\n",
    "Linear regression is a powerful and simple method for predicting a continuous outcome variable based on one or more predictors. In this notebook, we covered:\n",
    "\n",
    "The mathematical formulation of linear regression\n",
    "- How to generate synthetic data with a known linear relationship and noise\n",
    "- How to implement linear regression in Python and compare learned parameters with true values\n",
    "- How to visualize the fitted line\n",
    "- By understanding and implementing linear regression, you can develop predictive models and gain insights into the relationships between variables."
   ]
  },
  {
   "cell_type": "code",
   "execution_count": null,
   "id": "dd08123a-6c69-4ca7-8cd0-2aa8cb46e494",
   "metadata": {},
   "outputs": [],
   "source": []
  }
 ],
 "metadata": {
  "kernelspec": {
   "display_name": "Python 3 (ipykernel)",
   "language": "python",
   "name": "python3"
  },
  "language_info": {
   "codemirror_mode": {
    "name": "ipython",
    "version": 3
   },
   "file_extension": ".py",
   "mimetype": "text/x-python",
   "name": "python",
   "nbconvert_exporter": "python",
   "pygments_lexer": "ipython3",
   "version": "3.9.12"
  }
 },
 "nbformat": 4,
 "nbformat_minor": 5
}

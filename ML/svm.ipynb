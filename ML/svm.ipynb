{
 "cells": [
  {
   "cell_type": "markdown",
   "id": "5765ab9d-8196-4301-a780-dc812c36c38a",
   "metadata": {},
   "source": [
    "# Support Vector Machines (SVM)  with scikit-learn\n",
    "***\r\n",
    "![SVM visualization](svm.jpg)ew\r\n",
    "\r\n",
    "Support Vector Machines (SVMs) are a powers of supervised learning algorithms used for classification and regression tasks. They work by finding the optimal hyperplane that best separates the data into different classHerement, we'll explore the theory behind SVMs and provide a step-by-step guide on implementing them using `scikit-learn` on the Iris datand SVM\r\n",
    "\r\n",
    "### What is an SVM?\r\n",
    "\r\n",
    "An SVM is a type of supervised machine learning algorithm used primarily for classification tasks. It constructs a hyperplane in a high-dimensional space that separates different classes of data points. The key idea is to find the hyperplane that maximizes the margin between the clasSome terms:Key Concepts\r\n",
    "\r\n",
    "1. **Hyperplane**: A decision boundary that separates different classes. In a 2D space, this is a line; in 3D space, it's a plane, and in higher dimensions, it'(for n-dimension, it's a (n-1)-dimension). a hyperplane.\r\n",
    "\r\n",
    "2. **Margin**: The distance between the hyperplane and the closest data points from each class. SVM aims to maximize this margin.\r\n",
    "\r\n",
    "3. **Support Vectors**: The data points that lie closest to the hyperplane. These are crucial in defining the position and orientation of the hyperplane.\r\n",
    "\r\n",
    "4. **Kernel Trick**: A technique used to transform data into a higher-dimensional space to make it easier to find a hyperplane. Common kernels include linear, polynomial, and radial basis function (RBF).\r\n",
    "\r\n",
    "5. **Soft Margin**: In practice, data may not be linearly separable. The soft margin approach allows for some misclassification to achieve a b## Methematics behind SVMssification_report,\n",
    "\n",
    "The Mathematics behind Support Vector Machines (SVMs):\r\n",
    "### 1. **Linear SVM**\n",
    "\n",
    "**Objective**: Maximize the margin between two classes.\n",
    "\n",
    "**Hyperplane Equation**:\n",
    "$ \\mathbf{w} \\cdot \\mathbf{x} + b = 0 $\n",
    "\n",
    "**Margin**:\n",
    "$ \\text{Margin} = \\frac{2}{\\|\\mathbf{w}\\|} $\n",
    "\n",
    "**Optimization Problem**:\n",
    "Minimize:\n",
    "$ \\frac{1}{2} \\|\\mathbf{w}\\|^2 $\n",
    "\n",
    "Subject to:\n",
    "$ y_i (\\mathbf{w} \\cdot \\mathbf{x}_i + b) \\geq 1 $\n",
    "for all \\( i \\), where \\( y_i \\in \\{-1, +1\\} \\).\n",
    "\n",
    "### 2. **Non-Linear SVM with Kernels**\n",
    "\n",
    "**Kernel Function**: Maps data to a higher-dimensional space.\n",
    "\n",
    "Common Kernels:\n",
    "- **Polynomial Kernel**:\n",
    "  $ K(\\mathbf{x}_i, \\mathbf{x}_j) = (\\mathbf{x}_i \\cdot \\mathbf{x}_j + c)^d $\n",
    "  \n",
    "- **RBF Kernel**:\n",
    "  $ K(\\mathbf{x}_i, \\mathbf{x}_j) = \\exp \\left( -\\frac{\\|\\mathbf{x}_i - \\mathbf{x}_j\\|^2}{2\\sigma^2} \\right) $\n",
    "  \n",
    "- **Sigmoid Kernel**:\n",
    "  $ K(\\mathbf{x}_i, \\mathbf{x}_j) = \\tanh(\\alpha \\mathbf{x}_i \\cdot \\mathbf{x}_j + c) $\n",
    "\n",
    "**Dual Formulation**: Solve for Lagrange multipliers \\( \\alpha_i \\):\n",
    "\n",
    "Maximize:\n",
    "$ \\sum_{i=1}^N \\alpha_i - \\frac{1}{2} \\sum_{i=1}^N \\sum_{j=1}^N \\alpha_i \\alpha_j y_i y_j K(\\mathbf{x}_i, \\mathbf{x}_j) $\n",
    "\n",
    "Subject to:\n",
    "$ 0 \\leq \\alpha_i \\leq C $\n",
    "$ \\sum_{i=1}^N \\alpha_i y_i = 0 $\n",
    "\n",
    "### 3. **Decision Function**\n",
    "\n",
    "**Prediction**: For a new data point $ \\mathbf{x} $:\n",
    "\n",
    "$ f(\\mathbf{x}) = \\sum_{i=1}^N \\alpha_i y_i K(\\mathbf{x}, \\mathbf{x}_i) + b $\n",
    "\n",
    "Here:\n",
    "- Support vectors are the data points where $ \\alpha_i \\neq 0 $.\n",
    "- $ b $ is the bias term.\n",
    "\n",
    "This provides the SVM model with the ability to make predictions based on both linear and non-linear decision boundaries.ed on both linear and non-linear decision boundaries. confusion_matrix\r\n"
   ]
  },
  {
   "cell_type": "markdown",
   "id": "72d4d26a-54f3-4ec5-8810-28c9eaebd203",
   "metadata": {},
   "source": [
    "## Implementing SVM with scikit-learn\n",
    "\n",
    "### 1: Import Libraries\n",
    "\n",
    "First, we need to import the necessary libraries and modules."
   ]
  },
  {
   "cell_type": "code",
   "execution_count": 1,
   "id": "2719d5b7-8d63-4748-bc14-63b7329bb610",
   "metadata": {},
   "outputs": [],
   "source": [
    "import numpy as np\n",
    "import pandas as pd\n",
    "import matplotlib.pyplot as plt\n",
    "from sklearn import datasets\n",
    "from sklearn.preprocessing import MinMaxScaler\n",
    "from sklearn.model_selection import train_test_split\n",
    "from sklearn.svm import SVC\n",
    "from sklearn.metrics import classification_report, confusion_matrix"
   ]
  },
  {
   "cell_type": "markdown",
   "id": "e5d59bf9-06c8-4b80-b375-6842931f6b13",
   "metadata": {},
   "source": [
    "### 2: Load and preprocess dataset"
   ]
  },
  {
   "cell_type": "code",
   "execution_count": 2,
   "id": "a1b478aa-781a-425b-9596-2684270291b5",
   "metadata": {},
   "outputs": [],
   "source": [
    "iris = datasets.load_iris()\n",
    "X = iris.data\n",
    "y = iris.target\n",
    "cname=iris.target_names"
   ]
  },
  {
   "cell_type": "code",
   "execution_count": 3,
   "id": "c6004c8b-7218-42a2-a2f9-8979bf365001",
   "metadata": {},
   "outputs": [],
   "source": [
    "scaler = MinMaxScaler(feature_range=(0,1))"
   ]
  },
  {
   "cell_type": "code",
   "execution_count": 4,
   "id": "0ae0b293-74b7-4f38-888f-d6dbad8e683f",
   "metadata": {},
   "outputs": [],
   "source": [
    "X = scaler.fit_transform(X)"
   ]
  },
  {
   "cell_type": "code",
   "execution_count": 5,
   "id": "aa082ab7-130b-4ef1-9446-7d7ac0c73f27",
   "metadata": {},
   "outputs": [],
   "source": [
    "\n",
    "X_train, X_test, y_train, y_test = train_test_split(X, y, test_size=0.2, random_state=22, shuffle=True)\n"
   ]
  },
  {
   "cell_type": "markdown",
   "id": "998d1b44-2979-430f-b1ce-2bb5894a5b93",
   "metadata": {},
   "source": [
    "### 3: Model building and training"
   ]
  },
  {
   "cell_type": "code",
   "execution_count": 6,
   "id": "9958665e-aa7e-42d7-83ef-0e397256129c",
   "metadata": {},
   "outputs": [
    {
     "data": {
      "text/html": [
       "<style>#sk-container-id-1 {color: black;}#sk-container-id-1 pre{padding: 0;}#sk-container-id-1 div.sk-toggleable {background-color: white;}#sk-container-id-1 label.sk-toggleable__label {cursor: pointer;display: block;width: 100%;margin-bottom: 0;padding: 0.3em;box-sizing: border-box;text-align: center;}#sk-container-id-1 label.sk-toggleable__label-arrow:before {content: \"▸\";float: left;margin-right: 0.25em;color: #696969;}#sk-container-id-1 label.sk-toggleable__label-arrow:hover:before {color: black;}#sk-container-id-1 div.sk-estimator:hover label.sk-toggleable__label-arrow:before {color: black;}#sk-container-id-1 div.sk-toggleable__content {max-height: 0;max-width: 0;overflow: hidden;text-align: left;background-color: #f0f8ff;}#sk-container-id-1 div.sk-toggleable__content pre {margin: 0.2em;color: black;border-radius: 0.25em;background-color: #f0f8ff;}#sk-container-id-1 input.sk-toggleable__control:checked~div.sk-toggleable__content {max-height: 200px;max-width: 100%;overflow: auto;}#sk-container-id-1 input.sk-toggleable__control:checked~label.sk-toggleable__label-arrow:before {content: \"▾\";}#sk-container-id-1 div.sk-estimator input.sk-toggleable__control:checked~label.sk-toggleable__label {background-color: #d4ebff;}#sk-container-id-1 div.sk-label input.sk-toggleable__control:checked~label.sk-toggleable__label {background-color: #d4ebff;}#sk-container-id-1 input.sk-hidden--visually {border: 0;clip: rect(1px 1px 1px 1px);clip: rect(1px, 1px, 1px, 1px);height: 1px;margin: -1px;overflow: hidden;padding: 0;position: absolute;width: 1px;}#sk-container-id-1 div.sk-estimator {font-family: monospace;background-color: #f0f8ff;border: 1px dotted black;border-radius: 0.25em;box-sizing: border-box;margin-bottom: 0.5em;}#sk-container-id-1 div.sk-estimator:hover {background-color: #d4ebff;}#sk-container-id-1 div.sk-parallel-item::after {content: \"\";width: 100%;border-bottom: 1px solid gray;flex-grow: 1;}#sk-container-id-1 div.sk-label:hover label.sk-toggleable__label {background-color: #d4ebff;}#sk-container-id-1 div.sk-serial::before {content: \"\";position: absolute;border-left: 1px solid gray;box-sizing: border-box;top: 0;bottom: 0;left: 50%;z-index: 0;}#sk-container-id-1 div.sk-serial {display: flex;flex-direction: column;align-items: center;background-color: white;padding-right: 0.2em;padding-left: 0.2em;position: relative;}#sk-container-id-1 div.sk-item {position: relative;z-index: 1;}#sk-container-id-1 div.sk-parallel {display: flex;align-items: stretch;justify-content: center;background-color: white;position: relative;}#sk-container-id-1 div.sk-item::before, #sk-container-id-1 div.sk-parallel-item::before {content: \"\";position: absolute;border-left: 1px solid gray;box-sizing: border-box;top: 0;bottom: 0;left: 50%;z-index: -1;}#sk-container-id-1 div.sk-parallel-item {display: flex;flex-direction: column;z-index: 1;position: relative;background-color: white;}#sk-container-id-1 div.sk-parallel-item:first-child::after {align-self: flex-end;width: 50%;}#sk-container-id-1 div.sk-parallel-item:last-child::after {align-self: flex-start;width: 50%;}#sk-container-id-1 div.sk-parallel-item:only-child::after {width: 0;}#sk-container-id-1 div.sk-dashed-wrapped {border: 1px dashed gray;margin: 0 0.4em 0.5em 0.4em;box-sizing: border-box;padding-bottom: 0.4em;background-color: white;}#sk-container-id-1 div.sk-label label {font-family: monospace;font-weight: bold;display: inline-block;line-height: 1.2em;}#sk-container-id-1 div.sk-label-container {text-align: center;}#sk-container-id-1 div.sk-container {/* jupyter's `normalize.less` sets `[hidden] { display: none; }` but bootstrap.min.css set `[hidden] { display: none !important; }` so we also need the `!important` here to be able to override the default hidden behavior on the sphinx rendered scikit-learn.org. See: https://github.com/scikit-learn/scikit-learn/issues/21755 */display: inline-block !important;position: relative;}#sk-container-id-1 div.sk-text-repr-fallback {display: none;}</style><div id=\"sk-container-id-1\" class=\"sk-top-container\"><div class=\"sk-text-repr-fallback\"><pre>SVC(kernel=&#x27;linear&#x27;)</pre><b>In a Jupyter environment, please rerun this cell to show the HTML representation or trust the notebook. <br />On GitHub, the HTML representation is unable to render, please try loading this page with nbviewer.org.</b></div><div class=\"sk-container\" hidden><div class=\"sk-item\"><div class=\"sk-estimator sk-toggleable\"><input class=\"sk-toggleable__control sk-hidden--visually\" id=\"sk-estimator-id-1\" type=\"checkbox\" checked><label for=\"sk-estimator-id-1\" class=\"sk-toggleable__label sk-toggleable__label-arrow\">SVC</label><div class=\"sk-toggleable__content\"><pre>SVC(kernel=&#x27;linear&#x27;)</pre></div></div></div></div></div>"
      ],
      "text/plain": [
       "SVC(kernel='linear')"
      ]
     },
     "execution_count": 6,
     "metadata": {},
     "output_type": "execute_result"
    }
   ],
   "source": [
    "# kernel  can any one of ::'linear', 'poly', 'rbf', 'sigmoid'\n",
    "model = SVC(kernel='linear', C=1.0) \n",
    "\n",
    "model.fit(X_train, y_train)\n"
   ]
  },
  {
   "cell_type": "markdown",
   "id": "e03759cb-7a52-4908-afd2-13128b4ffaf5",
   "metadata": {},
   "source": [
    "### 4: Evaluation"
   ]
  },
  {
   "cell_type": "code",
   "execution_count": 7,
   "id": "4f91457f-1484-41fc-a6df-b36281a73707",
   "metadata": {},
   "outputs": [],
   "source": [
    "\n",
    "y_pred = model.predict(X_test)\n"
   ]
  },
  {
   "cell_type": "code",
   "execution_count": 8,
   "id": "6d43aba5-074a-49ae-b6d3-2a517cd12b0a",
   "metadata": {},
   "outputs": [
    {
     "name": "stdout",
     "output_type": "stream",
     "text": [
      "Confusion Matrix:\n",
      " [[ 6  0  0]\n",
      " [ 0 10  0]\n",
      " [ 0  2 12]]\n",
      "\n",
      "Classification Report:\n",
      "               precision    recall  f1-score   support\n",
      "\n",
      "           0       1.00      1.00      1.00         6\n",
      "           1       0.83      1.00      0.91        10\n",
      "           2       1.00      0.86      0.92        14\n",
      "\n",
      "    accuracy                           0.93        30\n",
      "   macro avg       0.94      0.95      0.94        30\n",
      "weighted avg       0.94      0.93      0.93        30\n",
      "\n"
     ]
    }
   ],
   "source": [
    "\n",
    "conf_matrix = confusion_matrix(y_test, y_pred)\n",
    "class_report = classification_report(y_test, y_pred)\n",
    "\n",
    "print(\"Confusion Matrix:\\n\", conf_matrix)\n",
    "print(\"\\nClassification Report:\\n\", class_report)\n"
   ]
  },
  {
   "cell_type": "markdown",
   "id": "630ef274-76a8-4bcc-85ee-a2198501de2d",
   "metadata": {},
   "source": [
    "### 5: Prediction"
   ]
  },
  {
   "cell_type": "code",
   "execution_count": 9,
   "id": "b563bb96-4111-4310-92ba-b6d4a64f3cfc",
   "metadata": {},
   "outputs": [],
   "source": [
    "def predict_single_data(input_data)->int:\n",
    "    \"\"\"\n",
    "    Predict the class for a single data sample.\n",
    "\n",
    "    Parameters:\n",
    "    - input_data (array-like): A list or array of feature values for the sample.\n",
    "\n",
    "    Returns:\n",
    "    - prediction (int): The predicted class label.\n",
    "    \"\"\"\n",
    "    input_data = np.array(input_data).reshape(1, -1)\n",
    "    input_data_scaled = scaler.transform(input_data)\n",
    "    prediction = model.predict(input_data_scaled)\n",
    "    \n",
    "    return prediction[0]"
   ]
  },
  {
   "cell_type": "code",
   "execution_count": 10,
   "id": "a48a3fc9-6059-4d99-a878-bb17e8ab07aa",
   "metadata": {},
   "outputs": [],
   "source": [
    "x = [5.8,4.5,4.2,3.5]"
   ]
  },
  {
   "cell_type": "code",
   "execution_count": 11,
   "id": "a56e71ff-4d6b-4bcc-af48-ae01db8ba659",
   "metadata": {},
   "outputs": [],
   "source": [
    "p = predict_single_data(x)"
   ]
  },
  {
   "cell_type": "code",
   "execution_count": 12,
   "id": "61b7c6af-9960-4456-ac65-9f887d33d7f1",
   "metadata": {},
   "outputs": [
    {
     "data": {
      "text/plain": [
       "2"
      ]
     },
     "execution_count": 12,
     "metadata": {},
     "output_type": "execute_result"
    }
   ],
   "source": [
    "p"
   ]
  },
  {
   "cell_type": "code",
   "execution_count": 13,
   "id": "fec27b39-b9c4-4345-b0a8-65b959a91595",
   "metadata": {},
   "outputs": [
    {
     "data": {
      "text/plain": [
       "'virginica'"
      ]
     },
     "execution_count": 13,
     "metadata": {},
     "output_type": "execute_result"
    }
   ],
   "source": [
    "cname[p]"
   ]
  },
  {
   "cell_type": "code",
   "execution_count": null,
   "id": "f3e4e210-db16-4462-9b5f-522d4630f257",
   "metadata": {},
   "outputs": [],
   "source": []
  }
 ],
 "metadata": {
  "kernelspec": {
   "display_name": "Python 3 (ipykernel)",
   "language": "python",
   "name": "python3"
  },
  "language_info": {
   "codemirror_mode": {
    "name": "ipython",
    "version": 3
   },
   "file_extension": ".py",
   "mimetype": "text/x-python",
   "name": "python",
   "nbconvert_exporter": "python",
   "pygments_lexer": "ipython3",
   "version": "3.9.12"
  }
 },
 "nbformat": 4,
 "nbformat_minor": 5
}
